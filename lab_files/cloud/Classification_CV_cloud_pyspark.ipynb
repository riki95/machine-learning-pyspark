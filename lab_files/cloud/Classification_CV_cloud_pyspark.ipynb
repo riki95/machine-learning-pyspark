{
 "cells": [
  {
   "cell_type": "markdown",
   "metadata": {},
   "source": [
    "## Tuning Model Parameters\n",
    "\n",
    "In this exercise, you will optimise the parameters for a classification model.\n",
    "\n",
    "### Prepare the Data\n",
    "\n",
    "First, import the libraries you will need and prepare the training and test data:"
   ]
  },
  {
   "cell_type": "code",
   "execution_count": 1,
   "metadata": {
    "scrolled": false
   },
   "outputs": [],
   "source": [
    "# Import Spark SQL and Spark ML libraries\n",
    "from pyspark.sql.types import *\n",
    "from pyspark.sql.functions import *\n",
    "\n",
    "from pyspark.ml import Pipeline\n",
    "from pyspark.ml.classification import LogisticRegression\n",
    "from pyspark.ml.feature import VectorAssembler\n",
    "from pyspark.ml.tuning import ParamGridBuilder, CrossValidator, TrainValidationSplit\n",
    "from pyspark.ml.evaluation import BinaryClassificationEvaluator\n",
    "\n",
    "from pyspark.context import SparkContext\n",
    "from pyspark.sql.session import SparkSession\n",
    "sc = SparkContext('local')\n",
    "spark = SparkSession(sc)\n",
    "\n",
    "# Load the source data\n",
    "csv = spark.read.csv('../../data/flights.csv', inferSchema=True, header=True)\n",
    "\n",
    "# Select features and label\n",
    "data = csv.select(\"DayofMonth\", \"DayOfWeek\", \"OriginAirportID\", \"DestAirportID\", \"DepDelay\", ((col(\"ArrDelay\") > 5).cast(\"Int\").alias(\"label\")))\n",
    "\n",
    "# Split the data\n",
    "splits = data.randomSplit([0.7, 0.3])\n",
    "train = splits[0]\n",
    "test = splits[1].withColumnRenamed(\"label\", \"trueLabel\")"
   ]
  },
  {
   "cell_type": "markdown",
   "metadata": {},
   "source": [
    "### Define the Pipeline\n",
    "Now define a pipeline that creates a feature vector and trains a classification model"
   ]
  },
  {
   "cell_type": "code",
   "execution_count": 2,
   "metadata": {
    "scrolled": false
   },
   "outputs": [],
   "source": [
    "# Define the pipeline\n",
    "assembler = VectorAssembler(inputCols = [\"DayofMonth\", \"DayOfWeek\", \"OriginAirportID\", \"DestAirportID\", \"DepDelay\"], outputCol=\"features\")\n",
    "lr = LogisticRegression(labelCol=\"label\", featuresCol=\"features\")\n",
    "pipeline = Pipeline(stages=[assembler, lr])"
   ]
  },
  {
   "cell_type": "markdown",
   "metadata": {},
   "source": [
    "### Tune Parameters\n",
    "You can tune parameters to find the best model for your data. A simple way to do this is to use  **TrainValidationSplit** to evaluate each combination of parameters defined in a **ParameterGrid** against a subset of the training data in order to find the best performing parameters."
   ]
  },
  {
   "cell_type": "code",
   "execution_count": 6,
   "metadata": {},
   "outputs": [
    {
     "name": "stdout",
     "output_type": "stream",
     "text": [
      "Elapsed time  4655.750661849976\n"
     ]
    }
   ],
   "source": [
    "paramGrid = ParamGridBuilder().addGrid(lr.regParam, [0.1, 1, 10]).addGrid(lr.maxIter, [100,10,5]).build()\n",
    "\n",
    "cv = CrossValidator(estimator=pipeline, evaluator=BinaryClassificationEvaluator(), estimatorParamMaps=paramGrid, numFolds=10)\n",
    "\n",
    "import time\n",
    "tic = time.time()\n",
    "model = cv.fit(train)\n",
    "toc = time.time()\n",
    "print(\"Elapsed time \", toc-tic)"
   ]
  },
  {
   "cell_type": "markdown",
   "metadata": {},
   "source": [
    "### Test the Model\n",
    "Now you're ready to apply the model to the test data."
   ]
  },
  {
   "cell_type": "code",
   "execution_count": 4,
   "metadata": {
    "scrolled": false
   },
   "outputs": [
    {
     "name": "stdout",
     "output_type": "stream",
     "text": [
      "+--------------------+----------+--------------------+---------+\n",
      "|            features|prediction|         probability|trueLabel|\n",
      "+--------------------+----------+--------------------+---------+\n",
      "|[1.0,1.0,10140.0,...|       0.0|[0.85464654181786...|        0|\n",
      "|[1.0,1.0,10140.0,...|       0.0|[0.83316305615144...|        0|\n",
      "|[1.0,1.0,10140.0,...|       0.0|[0.81736937036623...|        0|\n",
      "|[1.0,1.0,10140.0,...|       1.0|[0.40329594997220...|        1|\n",
      "|[1.0,1.0,10140.0,...|       0.0|[0.85491741697244...|        0|\n",
      "|[1.0,1.0,10140.0,...|       0.0|[0.75833566921205...|        1|\n",
      "|[1.0,1.0,10140.0,...|       0.0|[0.68135848216647...|        1|\n",
      "|[1.0,1.0,10140.0,...|       0.0|[0.86159233512184...|        0|\n",
      "|[1.0,1.0,10140.0,...|       0.0|[0.85492777856834...|        0|\n",
      "|[1.0,1.0,10140.0,...|       0.0|[0.83709925109943...|        0|\n",
      "|[1.0,1.0,10140.0,...|       0.0|[0.75329492258881...|        1|\n",
      "|[1.0,1.0,10140.0,...|       0.0|[0.73770475962310...|        1|\n",
      "|[1.0,1.0,10140.0,...|       0.0|[0.87713532772452...|        0|\n",
      "|[1.0,1.0,10140.0,...|       0.0|[0.87110722933695...|        0|\n",
      "|[1.0,1.0,10140.0,...|       0.0|[0.86799973768812...|        0|\n",
      "|[1.0,1.0,10140.0,...|       0.0|[0.86482895242176...|        0|\n",
      "|[1.0,1.0,10140.0,...|       0.0|[0.84800088494013...|        0|\n",
      "|[1.0,1.0,10140.0,...|       0.0|[0.82949086331936...|        1|\n",
      "|[1.0,1.0,10140.0,...|       0.0|[0.68729801011538...|        1|\n",
      "|[1.0,1.0,10140.0,...|       0.0|[0.85178426538911...|        0|\n",
      "|[1.0,1.0,10140.0,...|       0.0|[0.84473254272362...|        0|\n",
      "|[1.0,1.0,10140.0,...|       0.0|[0.84112986372019...|        0|\n",
      "|[1.0,1.0,10140.0,...|       0.0|[0.86511516392613...|        0|\n",
      "|[1.0,1.0,10140.0,...|       0.0|[0.86511516392613...|        0|\n",
      "|[1.0,1.0,10140.0,...|       0.0|[0.82983717730089...|        0|\n",
      "|[1.0,1.0,10140.0,...|       0.0|[0.82983717730089...|        0|\n",
      "|[1.0,1.0,10140.0,...|       0.0|[0.62621204123422...|        1|\n",
      "|[1.0,1.0,10140.0,...|       0.0|[0.85200720924078...|        0|\n",
      "|[1.0,1.0,10140.0,...|       0.0|[0.88048276900058...|        0|\n",
      "|[1.0,1.0,10140.0,...|       0.0|[0.85878469450924...|        0|\n",
      "|[1.0,1.0,10140.0,...|       0.0|[0.79240568391498...|        0|\n",
      "|[1.0,1.0,10140.0,...|       0.0|[0.70552392102215...|        1|\n",
      "|[1.0,1.0,10140.0,...|       0.0|[0.67026025404077...|        1|\n",
      "|[1.0,1.0,10140.0,...|       0.0|[0.63931184625006...|        1|\n",
      "|[1.0,1.0,10140.0,...|       0.0|[0.60716116890184...|        1|\n",
      "|[1.0,1.0,10140.0,...|       0.0|[0.84861982690875...|        0|\n",
      "|[1.0,1.0,10140.0,...|       0.0|[0.86217696150652...|        0|\n",
      "|[1.0,1.0,10140.0,...|       0.0|[0.84507787877303...|        0|\n",
      "|[1.0,1.0,10140.0,...|       0.0|[0.85896726662655...|        0|\n",
      "|[1.0,1.0,10140.0,...|       0.0|[0.82648966752427...|        0|\n",
      "|[1.0,1.0,10140.0,...|       0.0|[0.84885772929494...|        0|\n",
      "|[1.0,1.0,10140.0,...|       0.0|[0.80601253076827...|        0|\n",
      "|[1.0,1.0,10140.0,...|       0.0|[0.84891520871407...|        0|\n",
      "|[1.0,1.0,10140.0,...|       0.0|[0.82660254249753...|        0|\n",
      "|[1.0,1.0,10140.0,...|       0.0|[0.80176415798910...|        0|\n",
      "|[1.0,1.0,10140.0,...|       0.0|[0.80176415798910...|        0|\n",
      "|[1.0,1.0,10140.0,...|       0.0|[0.83451623841399...|        0|\n",
      "|[1.0,1.0,10140.0,...|       0.0|[0.79760759772964...|        0|\n",
      "|[1.0,1.0,10140.0,...|       0.0|[0.82288566332592...|        0|\n",
      "|[1.0,1.0,10140.0,...|       0.0|[0.86903208310036...|        0|\n",
      "|[1.0,1.0,10140.0,...|       0.0|[0.85939056363686...|        0|\n",
      "|[1.0,1.0,10140.0,...|       0.0|[0.50051291362449...|        1|\n",
      "|[1.0,1.0,10140.0,...|       0.0|[0.86917809529158...|        0|\n",
      "|[1.0,1.0,10299.0,...|       1.0|[0.38448232823458...|        1|\n",
      "|[1.0,1.0,10299.0,...|       0.0|[0.86211594119783...|        0|\n",
      "|[1.0,1.0,10299.0,...|       0.0|[0.88636404131922...|        0|\n",
      "|[1.0,1.0,10299.0,...|       0.0|[0.87197032291784...|        0|\n",
      "|[1.0,1.0,10299.0,...|       0.0|[0.86888050760313...|        0|\n",
      "|[1.0,1.0,10299.0,...|       0.0|[0.88102017072652...|        0|\n",
      "|[1.0,1.0,10299.0,...|       0.0|[0.86904481500552...|        0|\n",
      "|[1.0,1.0,10299.0,...|       0.0|[0.86589525508571...|        0|\n",
      "|[1.0,1.0,10299.0,...|       0.0|[0.89985825174346...|        0|\n",
      "|[1.0,1.0,10299.0,...|       0.0|[0.87232599820752...|        0|\n",
      "|[1.0,1.0,10299.0,...|       0.0|[0.86924347943939...|        0|\n",
      "|[1.0,1.0,10299.0,...|       0.0|[0.86924347943939...|        0|\n",
      "|[1.0,1.0,10299.0,...|       0.0|[0.86609796133822...|        0|\n",
      "|[1.0,1.0,10299.0,...|       0.0|[0.85961500844164...|        0|\n",
      "|[1.0,1.0,10299.0,...|       0.0|[0.85287149901016...|        0|\n",
      "|[1.0,1.0,10299.0,...|       0.0|[0.85287149901016...|        0|\n",
      "|[1.0,1.0,10299.0,...|       0.0|[0.84940036747086...|        0|\n",
      "|[1.0,1.0,10299.0,...|       0.0|[0.84940036747086...|        0|\n",
      "|[1.0,1.0,10299.0,...|       0.0|[0.83858205654403...|        0|\n",
      "|[1.0,1.0,10299.0,...|       0.0|[0.82714476174503...|        0|\n",
      "|[1.0,1.0,10299.0,...|       0.0|[0.80667396043831...|        1|\n",
      "|[1.0,1.0,10299.0,...|       0.0|[0.63456362403488...|        1|\n",
      "|[1.0,1.0,10397.0,...|       0.0|[0.84807458405511...|        0|\n",
      "|[1.0,1.0,10397.0,...|       0.0|[0.65122430947546...|        1|\n",
      "|[1.0,1.0,10397.0,...|       0.0|[0.84101105503393...|        0|\n",
      "|[1.0,1.0,10397.0,...|       0.0|[0.86182911944985...|        0|\n",
      "|[1.0,1.0,10397.0,...|       0.0|[0.85174779653787...|        0|\n",
      "|[1.0,1.0,10397.0,...|       0.0|[0.84106656067657...|        0|\n",
      "|[1.0,1.0,10397.0,...|       0.0|[0.79206604334962...|        0|\n",
      "|[1.0,1.0,10397.0,...|       0.0|[0.86183755999944...|        0|\n",
      "|[1.0,1.0,10397.0,...|       0.0|[0.86183755999944...|        0|\n",
      "|[1.0,1.0,10397.0,...|       0.0|[0.85518282673137...|        0|\n",
      "|[1.0,1.0,10397.0,...|       0.0|[0.85175674700131...|        0|\n",
      "|[1.0,1.0,10397.0,...|       0.0|[0.85175674700131...|        1|\n",
      "|[1.0,1.0,10397.0,...|       0.0|[0.83737968109624...|        0|\n",
      "|[1.0,1.0,10397.0,...|       0.0|[0.82189983599047...|        0|\n",
      "|[1.0,1.0,10397.0,...|       0.0|[0.80528909351538...|        0|\n",
      "|[1.0,1.0,10397.0,...|       0.0|[0.75367716811778...|        0|\n",
      "|[1.0,1.0,10397.0,...|       0.0|[0.74336409874625...|        0|\n",
      "|[1.0,1.0,10397.0,...|       0.0|[0.72737349491369...|        0|\n",
      "|[1.0,1.0,10397.0,...|       0.0|[0.86508854676906...|        0|\n",
      "|[1.0,1.0,10397.0,...|       0.0|[0.86185896088078...|        0|\n",
      "|[1.0,1.0,10397.0,...|       0.0|[0.84828712797382...|        0|\n",
      "|[1.0,1.0,10397.0,...|       0.0|[0.83363929046027...|        0|\n",
      "|[1.0,1.0,10397.0,...|       0.0|[0.81376444615541...|        0|\n",
      "|[1.0,1.0,10397.0,...|       0.0|[0.80957668020359...|        0|\n",
      "|[1.0,1.0,10397.0,...|       0.0|[0.86826256785169...|        0|\n",
      "+--------------------+----------+--------------------+---------+\n",
      "only showing top 100 rows\n",
      "\n"
     ]
    }
   ],
   "source": [
    "prediction = model.transform(test)\n",
    "predicted = prediction.select(\"features\", \"prediction\", \"probability\", \"trueLabel\")"
   ]
  },
  {
   "cell_type": "markdown",
   "metadata": {},
   "source": [
    "### Compute Confusion Matrix Metrics\n",
    "Classifiers are typically evaluated by creating a *confusion matrix*, which indicates the number of:\n",
    "- True Positives\n",
    "- True Negatives\n",
    "- False Positives\n",
    "- False Negatives\n",
    "\n",
    "From these core measures, other evaluation metrics such as *precision* and *recall* can be calculated."
   ]
  },
  {
   "cell_type": "code",
   "execution_count": 5,
   "metadata": {},
   "outputs": [
    {
     "name": "stdout",
     "output_type": "stream",
     "text": [
      "+---------+------------------+\n",
      "|   metric|             value|\n",
      "+---------+------------------+\n",
      "|       TP|           45566.0|\n",
      "|       FP|             133.0|\n",
      "|       TN|          648211.0|\n",
      "|       FN|          115835.0|\n",
      "|Precision|0.9970896518523381|\n",
      "|   Recall| 0.282315475120972|\n",
      "+---------+------------------+\n",
      "\n"
     ]
    }
   ],
   "source": [
    "tp = float(predicted.filter(\"prediction == 1.0 AND trueLabel == 1\").count())\n",
    "fp = float(predicted.filter(\"prediction == 1.0 AND trueLabel == 0\").count())\n",
    "tn = float(predicted.filter(\"prediction == 0.0 AND trueLabel == 0\").count())\n",
    "fn = float(predicted.filter(\"prediction == 0.0 AND trueLabel == 1\").count())\n",
    "metrics = spark.createDataFrame([\n",
    " (\"TP\", tp),\n",
    " (\"FP\", fp),\n",
    " (\"TN\", tn),\n",
    " (\"FN\", fn),\n",
    " (\"Precision\", tp / (tp + fp)),\n",
    " (\"Recall\", tp / (tp + fn))],[\"metric\", \"value\"])\n",
    "metrics.show()"
   ]
  }
 ],
 "metadata": {
  "kernelspec": {
   "display_name": "Python 3",
   "language": "python",
   "name": "python3"
  },
  "language_info": {
   "codemirror_mode": {
    "name": "ipython",
    "version": 3
   },
   "file_extension": ".py",
   "mimetype": "text/x-python",
   "name": "python",
   "nbconvert_exporter": "python",
   "pygments_lexer": "ipython3",
   "version": "3.6.5"
  }
 },
 "nbformat": 4,
 "nbformat_minor": 1
}
