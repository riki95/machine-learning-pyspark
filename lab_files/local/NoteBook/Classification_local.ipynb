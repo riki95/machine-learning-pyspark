{
 "cells": [
  {
   "cell_type": "markdown",
   "metadata": {},
   "source": [
    "##### Let's consider here the implementation of a binary classifier using Logistic Regression and a fixed set of parameters to learn the model. We leverage the sklearn library"
   ]
  },
  {
   "cell_type": "markdown",
   "metadata": {},
   "source": [
    "### Import the libraries"
   ]
  },
  {
   "cell_type": "code",
   "execution_count": 2,
   "metadata": {},
   "outputs": [],
   "source": [
    "import sys\n",
    "import scipy\n",
    "import numpy as np\n",
    "import matplotlib\n",
    "import pandas\n",
    "import sklearn\n",
    "from sklearn.linear_model import LogisticRegression\n",
    "from sklearn import model_selection\n",
    "from sklearn.metrics import classification_report\n",
    "from sklearn.metrics import confusion_matrix\n",
    "from sklearn.metrics import accuracy_score\n",
    "import time\n",
    "import matplotlib.pyplot as plt"
   ]
  },
  {
   "cell_type": "markdown",
   "metadata": {},
   "source": [
    "### Load the dataset"
   ]
  },
  {
   "cell_type": "code",
   "execution_count": 4,
   "metadata": {
    "scrolled": false
   },
   "outputs": [
    {
     "name": "stdout",
     "output_type": "stream",
     "text": [
      "Data set size (2702218, 7)\n"
     ]
    }
   ],
   "source": [
    "dataset = pandas.read_csv(\"../data/flights.csv\")\n",
    "print(\"Data set size\", dataset.shape)"
   ]
  },
  {
   "cell_type": "markdown",
   "metadata": {},
   "source": [
    "### Prepare the Data"
   ]
  },
  {
   "cell_type": "code",
   "execution_count": 8,
   "metadata": {},
   "outputs": [
    {
     "name": "stdout",
     "output_type": "stream",
     "text": [
      "Data matrix size  (2702218, 5)\n",
      "Labels vector size (2702218, 1)\n"
     ]
    }
   ],
   "source": [
    "data = dataset[[\"DayofMonth\", \"DayOfWeek\", \"OriginAirportID\", \"DestAirportID\", \"DepDelay\"]]\n",
    "labels = (dataset[[\"ArrDelay\"]]>5).astype(int)\n",
    "print(\"Data matrix size \", data.shape)\n",
    "print(\"Labels vector size\",  labels.shape)"
   ]
  },
  {
   "cell_type": "markdown",
   "metadata": {},
   "source": [
    "### Split the Data\n",
    "It is common practice when building supervised machine learning models to split the source data, using some of it to train the model and reserving some to test the trained model. We you will use 70% of the data for training, and reserve 30% for testing."
   ]
  },
  {
   "cell_type": "code",
   "execution_count": 9,
   "metadata": {},
   "outputs": [
    {
     "name": "stdout",
     "output_type": "stream",
     "text": [
      "Training set size:\n",
      "Data  (1891552, 5)\n",
      "Labels  (1891552, 1)\n",
      "Test set size:\n",
      "Data  (810666, 5)\n",
      "Labels  (810666, 1)\n"
     ]
    }
   ],
   "source": [
    "seed = 1234\n",
    "X_train, X_test, Y_train, Y_test = model_selection.train_test_split(data.values, labels.values, test_size=0.3, random_state=seed)\n",
    "\n",
    "print(\"Training set size:\")\n",
    "print(\"Data \", X_train.shape)\n",
    "print(\"Labels \", Y_train.shape)\n",
    "print(\"Test set size:\")\n",
    "print(\"Data \",  X_test.shape)\n",
    "print(\"Labels \", Y_test.shape)"
   ]
  },
  {
   "cell_type": "markdown",
   "metadata": {},
   "source": [
    "### Train a Classification Model"
   ]
  },
  {
   "cell_type": "code",
   "execution_count": 27,
   "metadata": {
    "scrolled": false
   },
   "outputs": [
    {
     "name": "stderr",
     "output_type": "stream",
     "text": [
      "/anaconda3/lib/python3.6/site-packages/sklearn/linear_model/logistic.py:1228: UserWarning: 'n_jobs' > 1 does not have any effect when 'solver' is set to 'liblinear'. Got 'n_jobs' = 5.\n",
      "  \" = {}.\".format(self.n_jobs))\n"
     ]
    },
    {
     "name": "stdout",
     "output_type": "stream",
     "text": [
      "Elapsed time  4.566382884979248\n"
     ]
    }
   ],
   "source": [
    "model = LogisticRegression(C=1.0,max_iter=10)\n",
    "tic = time.time()\n",
    "model.fit(X_train, Y_train.ravel())\n",
    "toc = time.time()\n",
    "print(\"Elapsed time \", toc-tic)"
   ]
  },
  {
   "cell_type": "markdown",
   "metadata": {},
   "source": [
    "### Evaluate the model on the test set"
   ]
  },
  {
   "cell_type": "code",
   "execution_count": 26,
   "metadata": {},
   "outputs": [
    {
     "name": "stdout",
     "output_type": "stream",
     "text": [
      "True Positive  229\n",
      "False Positive  1\n",
      "True Negative  557026\n",
      "False Negative 253410\n",
      "Precision  0.9956521739130435\n",
      "Recall  0.0009028579989670358\n"
     ]
    }
   ],
   "source": [
    "predicted = model.predict(X_test)\n",
    "c = confusion_matrix(Y_test, predicted)\n",
    "tp = c[1,1]\n",
    "tn = c[0,0]\n",
    "fp = c[0,1]\n",
    "fn = c[1,0]\n",
    "\n",
    "print(\"True Positive \", tp)\n",
    "print(\"False Positive \", fp)\n",
    "print(\"True Negative \", tn)\n",
    "print(\"False Negative\", fn)\n",
    "\n",
    "\n",
    "precision = tp/(tp+fp)\n",
    "recall = tp/(tp+fn)\n",
    "print(\"Precision \", precision)\n",
    "print(\"Recall \", recall)"
   ]
  },
  {
   "cell_type": "code",
   "execution_count": null,
   "metadata": {},
   "outputs": [],
   "source": []
  }
 ],
 "metadata": {
  "kernelspec": {
   "display_name": "Python 3",
   "language": "python",
   "name": "python3"
  },
  "language_info": {
   "codemirror_mode": {
    "name": "ipython",
    "version": 3
   },
   "file_extension": ".py",
   "mimetype": "text/x-python",
   "name": "python",
   "nbconvert_exporter": "python",
   "pygments_lexer": "ipython3",
   "version": "3.6.5"
  }
 },
 "nbformat": 4,
 "nbformat_minor": 1
}
