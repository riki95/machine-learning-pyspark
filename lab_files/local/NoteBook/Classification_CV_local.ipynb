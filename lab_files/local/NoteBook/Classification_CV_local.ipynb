{
 "cells": [
  {
   "cell_type": "markdown",
   "metadata": {},
   "source": [
    "## Using Cross Validation\n",
    "\n",
    "In this exercise, you will use cross-validation to optimize parameters for a classification model.\n",
    "\n",
    "### Prepare the Data\n",
    "\n",
    "First, import the libraries you will need and prepare the training and test data:"
   ]
  },
  {
   "cell_type": "code",
   "execution_count": null,
   "metadata": {
    "scrolled": false
   },
   "outputs": [],
   "source": [
    "import sys\n",
    "import scipy\n",
    "import numpy\n",
    "import matplotlib\n",
    "import pandas\n",
    "import sklearn\n",
    "from sklearn.linear_model import LogisticRegression\n",
    "from sklearn import model_selection\n",
    "from sklearn.model_selection import ParameterGrid\n",
    "from sklearn.model_selection import GridSearchCV\n",
    "from sklearn.metrics import classification_report\n",
    "from sklearn.metrics import confusion_matrix\n",
    "from sklearn.metrics import accuracy_score\n",
    "import time\n"
   ]
  },
  {
   "cell_type": "code",
   "execution_count": null,
   "metadata": {},
   "outputs": [],
   "source": [
    "# Load the source data\n",
    "dataset = pandas.read_csv(\"../../data/flights.csv\")\n",
    "data = dataset[[\"DayofMonth\", \"DayOfWeek\", \"OriginAirportID\", \"DestAirportID\", \"DepDelay\"]]\n",
    "labels = (dataset[[\"ArrDelay\"]]>5).astype(int)\n",
    "seed = 1234\n",
    "X_train, X_test, Y_train, Y_test = model_selection.train_test_split(data.values, labels.values, test_size=0.3, random_state=seed)\n"
   ]
  },
  {
   "cell_type": "markdown",
   "metadata": {},
   "source": [
    "### Tune Parameters\n",
    "You can tune parameters to find the best model for your data. To do this you can use the  **CrossValidator** class to evaluate each combination of parameters defined in a **ParameterGrid** against multiple *folds* of the data split into training and validation datasets, in order to find the best performing parameters. Note that this can take a long time to run because every parameter combination is tried multiple times."
   ]
  },
  {
   "cell_type": "code",
   "execution_count": null,
   "metadata": {},
   "outputs": [],
   "source": [
    "# Try to play with :\n",
    "# - the number of possible values for the parameters\n",
    "# - the number k of folds in the cross validation\n",
    "# - number of jobs (for n_jobs=0 simply remove the parameter)\n",
    "model = LogisticRegression()\n",
    "grid={\"C\":[0.1, 1, 10], \"max_iter\":[100, 10,5]}\n",
    "model_cv = GridSearchCV(model, grid, cv=10, n_jobs=5)\n",
    "tic = time.time()\n",
    "model_cv.fit(X_train, Y_train.ravel())\n",
    "toc = time.time()\n",
    "print(\"Elapsed time : \", toc-tic)"
   ]
  },
  {
   "cell_type": "markdown",
   "metadata": {},
   "source": [
    "### Test the Model\n",
    "Now you're ready to apply the model to the test data."
   ]
  },
  {
   "cell_type": "code",
   "execution_count": null,
   "metadata": {
    "scrolled": false
   },
   "outputs": [],
   "source": [
    "predicted = model_cv.predict(X_test)\n",
    "print(sum(predicted==1))\n",
    "c = confusion_matrix(Y_test.ravel(), predicted)\n",
    "tp = c[1,1]\n",
    "tn = c[0,0]\n",
    "fp = c[0,1]\n",
    "fn = c[1,0]\n",
    "\n",
    "print(\"True Positive \", tp)\n",
    "print(\"False Positive \", fp)\n",
    "print(\"True Negative \", tn)\n",
    "print(\"False Negative\", fn)\n",
    "\n",
    "\n",
    "precision = tp/(tp+fp)\n",
    "recall = tp/(tp+fn)\n",
    "print(\"Precision \", precision)\n",
    "print(\"Recall \", recall)"
   ]
  },
  {
   "cell_type": "code",
   "execution_count": null,
   "metadata": {},
   "outputs": [],
   "source": []
  }
 ],
 "metadata": {
  "kernelspec": {
   "display_name": "Python 3",
   "language": "python",
   "name": "python3"
  },
  "language_info": {
   "codemirror_mode": {
    "name": "ipython",
    "version": 3
   },
   "file_extension": ".py",
   "mimetype": "text/x-python",
   "name": "python",
   "nbconvert_exporter": "python",
   "pygments_lexer": "ipython3",
   "version": "3.6.5"
  }
 },
 "nbformat": 4,
 "nbformat_minor": 1
}
