{
 "cells": [
  {
   "cell_type": "markdown",
   "metadata": {},
   "source": [
    "## Tuning Model Parameters\n",
    "\n",
    "In this exercise, you will optimise the parameters for a classification model.\n",
    "\n",
    "### Prepare the Data\n",
    "\n",
    "First, import the libraries you will need and prepare the training and test data:"
   ]
  },
  {
   "cell_type": "code",
   "execution_count": 1,
   "metadata": {
    "scrolled": false
   },
   "outputs": [
    {
     "name": "stdout",
     "output_type": "stream",
     "text": [
      "DataFrame[age: double, job: double, marital: double, education: double, default: double, balance: double, housing: double, loan: double, contact: double, day: double, month: double, duration: double, campaign: double, pdays: double, previous: double, poutcome: double, label: double]\n"
     ]
    }
   ],
   "source": [
    "# Import Spark SQL and Spark ML libraries\n",
    "from pyspark.sql.types import *\n",
    "from pyspark.sql.functions import *\n",
    "\n",
    "from pyspark.ml import Pipeline\n",
    "from pyspark.ml.classification import LogisticRegression\n",
    "from pyspark.ml.feature import VectorAssembler\n",
    "from pyspark.ml.tuning import ParamGridBuilder, CrossValidator, TrainValidationSplit\n",
    "from pyspark.ml.evaluation import BinaryClassificationEvaluator\n",
    "\n",
    "from pyspark.context import SparkContext\n",
    "from pyspark.sql.session import SparkSession\n",
    "sc = SparkContext('local')\n",
    "spark = SparkSession(sc)\n",
    "\n",
    "# Load the source data\n",
    "csv = spark.read.csv('../../data/bank.csv', inferSchema=True, header=True, sep=';')\n",
    "\n",
    "# Select features and label\n",
    "data = csv.select(*csv.columns[:-1], (col(\"y\").alias(\"label\")))\n",
    "print(data)\n",
    "\n",
    "# Split the data\n",
    "splits = data.randomSplit([0.7, 0.3])\n",
    "train = splits[0]\n",
    "test = splits[1].withColumnRenamed(\"label\", \"trueLabel\")"
   ]
  },
  {
   "cell_type": "markdown",
   "metadata": {},
   "source": [
    "### Define the Pipeline\n",
    "Now define a pipeline that creates a feature vector and trains a classification model"
   ]
  },
  {
   "cell_type": "code",
   "execution_count": 2,
   "metadata": {
    "scrolled": false
   },
   "outputs": [
    {
     "name": "stdout",
     "output_type": "stream",
     "text": [
      "['age', 'job', 'marital', 'education', 'default', 'balance', 'housing', 'loan', 'contact', 'day', 'month', 'duration', 'campaign', 'pdays', 'previous', 'poutcome']\n"
     ]
    }
   ],
   "source": [
    "# Define the pipeline\n",
    "assembler = VectorAssembler(inputCols = data.columns[:-1], outputCol=\"features\")\n",
    "print(assembler.getInputCols())\n",
    "lr = LogisticRegression(labelCol=\"label\", featuresCol=\"features\")\n",
    "pipeline = Pipeline(stages=[assembler, lr])"
   ]
  },
  {
   "cell_type": "markdown",
   "metadata": {},
   "source": [
    "### Tune Parameters\n",
    "You can tune parameters to find the best model for your data. A simple way to do this is to use  **TrainValidationSplit** to evaluate each combination of parameters defined in a **ParameterGrid** against a subset of the training data in order to find the best performing parameters."
   ]
  },
  {
   "cell_type": "code",
   "execution_count": 3,
   "metadata": {},
   "outputs": [
    {
     "name": "stdout",
     "output_type": "stream",
     "text": [
      "Elapsed time  140.95596885681152\n"
     ]
    }
   ],
   "source": [
    "paramGrid = ParamGridBuilder().addGrid(lr.regParam, [0.1, 1, 10]).addGrid(lr.maxIter, [100,10,5]).build()\n",
    "\n",
    "cv = CrossValidator(estimator=pipeline, evaluator=BinaryClassificationEvaluator(), estimatorParamMaps=paramGrid, numFolds=10)\n",
    "\n",
    "import time\n",
    "tic = time.time()\n",
    "model = cv.fit(train)\n",
    "toc = time.time()\n",
    "print(\"Elapsed time \", toc-tic)"
   ]
  },
  {
   "cell_type": "markdown",
   "metadata": {},
   "source": [
    "### Test the Model\n",
    "Now you're ready to apply the model to the test data."
   ]
  },
  {
   "cell_type": "code",
   "execution_count": 4,
   "metadata": {
    "scrolled": false
   },
   "outputs": [
    {
     "name": "stdout",
     "output_type": "stream",
     "text": [
      "+--------------------+----------+--------------------+---------+\n",
      "|            features|prediction|         probability|trueLabel|\n",
      "+--------------------+----------+--------------------+---------+\n",
      "|[0.0,1.0,0.5,0.33...|       0.0|[0.69943979576858...|      0.0|\n",
      "|[0.0,1.0,0.5,0.66...|       0.0|[0.89976883533097...|      0.0|\n",
      "|(16,[1,2,3,5,6,8,...|       0.0|[0.85763097057592...|      1.0|\n",
      "|[0.01298701298701...|       0.0|[0.75599862273310...|      0.0|\n",
      "|[0.01298701298701...|       0.0|[0.84074944427605...|      0.0|\n",
      "|[0.01298701298701...|       0.0|[0.88226765277839...|      0.0|\n",
      "|[0.01298701298701...|       0.0|[0.86616463410777...|      0.0|\n",
      "|[0.01298701298701...|       0.0|[0.89141178039311...|      0.0|\n",
      "|[0.01298701298701...|       0.0|[0.89200632582467...|      0.0|\n",
      "|[0.01298701298701...|       0.0|[0.86522275872300...|      1.0|\n",
      "|[0.01298701298701...|       0.0|[0.83647419508122...|      0.0|\n",
      "|[0.01298701298701...|       0.0|[0.86459977098306...|      1.0|\n",
      "|[0.02597402597402...|       0.0|[0.93008704574984...|      0.0|\n",
      "|(16,[0,1,3,5,6,8,...|       0.0|[0.93643338377641...|      0.0|\n",
      "|[0.02597402597402...|       0.0|[0.80284442400770...|      1.0|\n",
      "|(16,[0,1,2,3,5,9,...|       0.0|[0.95867933690896...|      0.0|\n",
      "|[0.02597402597402...|       0.0|[0.88684011108651...|      0.0|\n",
      "|(16,[0,1,2,3,5,9,...|       0.0|[0.92152134077807...|      0.0|\n",
      "|[0.02597402597402...|       0.0|[0.90676463318106...|      0.0|\n",
      "|[0.02597402597402...|       0.0|[0.59227478052881...|      1.0|\n",
      "+--------------------+----------+--------------------+---------+\n",
      "only showing top 20 rows\n",
      "\n"
     ]
    }
   ],
   "source": [
    "prediction = model.transform(test)\n",
    "predicted = prediction.select(\"features\", \"prediction\", \"probability\", \"trueLabel\")\n",
    "predicted.show()"
   ]
  },
  {
   "cell_type": "markdown",
   "metadata": {},
   "source": [
    "### Compute Confusion Matrix Metrics\n",
    "Classifiers are typically evaluated by creating a *confusion matrix*, which indicates the number of:\n",
    "- True Positives\n",
    "- True Negatives\n",
    "- False Positives\n",
    "- False Negatives\n",
    "\n",
    "From these core measures, other evaluation metrics such as *precision* and *recall* can be calculated."
   ]
  },
  {
   "cell_type": "code",
   "execution_count": 5,
   "metadata": {},
   "outputs": [
    {
     "name": "stdout",
     "output_type": "stream",
     "text": [
      "+---------+-------------------+\n",
      "|   metric|              value|\n",
      "+---------+-------------------+\n",
      "|       TP|              115.0|\n",
      "|       FP|               65.0|\n",
      "|       TN|            11942.0|\n",
      "|       FN|             1434.0|\n",
      "|Precision| 0.6388888888888888|\n",
      "|   Recall|0.07424144609425436|\n",
      "+---------+-------------------+\n",
      "\n"
     ]
    }
   ],
   "source": [
    "tp = float(predicted.filter(\"prediction == 1.0 AND trueLabel == 1\").count())\n",
    "fp = float(predicted.filter(\"prediction == 1.0 AND trueLabel == 0\").count())\n",
    "tn = float(predicted.filter(\"prediction == 0.0 AND trueLabel == 0\").count())\n",
    "fn = float(predicted.filter(\"prediction == 0.0 AND trueLabel == 1\").count())\n",
    "metrics = spark.createDataFrame([\n",
    " (\"TP\", tp),\n",
    " (\"FP\", fp),\n",
    " (\"TN\", tn),\n",
    " (\"FN\", fn),\n",
    " (\"Precision\", tp / (tp + fp)),\n",
    " (\"Recall\", tp / (tp + fn))],[\"metric\", \"value\"])\n",
    "metrics.show()"
   ]
  },
  {
   "cell_type": "code",
   "execution_count": null,
   "metadata": {},
   "outputs": [],
   "source": []
  }
 ],
 "metadata": {
  "kernelspec": {
   "display_name": "Python 3",
   "language": "python",
   "name": "python3"
  },
  "language_info": {
   "codemirror_mode": {
    "name": "ipython",
    "version": 3
   },
   "file_extension": ".py",
   "mimetype": "text/x-python",
   "name": "python",
   "nbconvert_exporter": "python",
   "pygments_lexer": "ipython3",
   "version": "3.7.1"
  }
 },
 "nbformat": 4,
 "nbformat_minor": 1
}
