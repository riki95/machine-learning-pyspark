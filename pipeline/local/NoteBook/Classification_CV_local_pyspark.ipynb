{
 "cells": [
  {
   "cell_type": "markdown",
   "metadata": {},
   "source": [
    "## Classification Problem - Cross Validation - PySpark Local"
   ]
  },
  {
   "cell_type": "markdown",
   "metadata": {},
   "source": [
    "### Prepare the Data\n",
    "\n",
    "First, import the libraries that we will need and prepare the training and test data:"
   ]
  },
  {
   "cell_type": "code",
   "execution_count": 1,
   "metadata": {},
   "outputs": [],
   "source": [
    "# Import libraries\n",
    "from pyspark.sql.types import *\n",
    "from pyspark.sql.functions import *\n",
    "\n",
    "from pyspark.ml import Pipeline\n",
    "from pyspark.ml.classification import LogisticRegression\n",
    "from pyspark.ml.feature import VectorAssembler\n",
    "from pyspark.ml.tuning import ParamGridBuilder, CrossValidator, TrainValidationSplit\n",
    "from pyspark.ml.evaluation import BinaryClassificationEvaluator\n",
    "\n",
    "from pyspark.context import SparkContext, SparkConf\n",
    "from pyspark.sql.session import SparkSession\n",
    "\n",
    "import numpy as np"
   ]
  },
  {
   "cell_type": "code",
   "execution_count": 2,
   "metadata": {
    "scrolled": false
   },
   "outputs": [
    {
     "name": "stdout",
     "output_type": "stream",
     "text": [
      "DataFrame[age: double, default: int, balance: double, housing: int, loan: int, duration: double, campaign: double, pdays: double, previous: double, job_admin: int, job_blue-collar: int, job_entrepreneur: int, job_housemaid: int, job_management: int, job_retired: int, job_self-employed: int, job_services: int, job_student: int, job_technician: int, job_unemployed: int, job_unknown: int, marital_divorced: int, marital_married: int, marital_single: int, education_primary: int, education_secondary: int, education_tertiary: int, education_unknown: int, contact_cellular: int, contact_telephone: int, contact_unknown: int, day_1: int, day_2: int, day_3: int, day_4: int, day_5: int, day_6: int, day_7: int, day_8: int, day_9: int, day_10: int, day_11: int, day_12: int, day_13: int, day_14: int, day_15: int, day_16: int, day_17: int, day_18: int, day_19: int, day_20: int, day_21: int, day_22: int, day_23: int, day_24: int, day_25: int, day_26: int, day_27: int, day_28: int, day_29: int, day_30: int, day_31: int, month_apr: int, month_aug: int, month_dec: int, month_feb: int, month_jan: int, month_jul: int, month_jun: int, month_mar: int, month_may: int, month_nov: int, month_oct: int, month_sep: int, poutcome_failure: int, poutcome_other: int, poutcome_success: int, poutcome_unknown: int, label: int]\n"
     ]
    }
   ],
   "source": [
    "# PySpark session initialization\n",
    "conf = SparkConf().setAppName(\"HPC PySpark App\")\n",
    "\n",
    "sc = SparkContext('local', conf=conf)\n",
    "spark = SparkSession(sc)\n",
    "\n",
    "# Load the source data\n",
    "# csv = spark.read.csv('../../data/bank.csv', inferSchema=True, header=True, sep=';')\n",
    "csv = spark.read.csv('../../data/normalized2.csv', inferSchema=True, header=True, sep=',')\n",
    "\n",
    "\n",
    "# Select features and label\n",
    "data = csv.select(*csv.columns[:-1], (col(\"y\").alias(\"label\")))\n",
    "print(data)\n",
    "\n",
    "# Split the data 70-30\n",
    "splits = data.randomSplit([0.7, 0.3])\n",
    "train = splits[0]\n",
    "test = splits[1].withColumnRenamed(\"label\", \"trueLabel\")"
   ]
  },
  {
   "cell_type": "markdown",
   "metadata": {},
   "source": [
    "### Define the Pipeline\n",
    "Now define a pipeline that creates a feature vector and trains a classification model"
   ]
  },
  {
   "cell_type": "code",
   "execution_count": 3,
   "metadata": {
    "scrolled": false
   },
   "outputs": [
    {
     "name": "stdout",
     "output_type": "stream",
     "text": [
      "Input Columns:  ['age', 'default', 'balance', 'housing', 'loan', 'duration', 'campaign', 'pdays', 'previous', 'job_admin', 'job_blue-collar', 'job_entrepreneur', 'job_housemaid', 'job_management', 'job_retired', 'job_self-employed', 'job_services', 'job_student', 'job_technician', 'job_unemployed', 'job_unknown', 'marital_divorced', 'marital_married', 'marital_single', 'education_primary', 'education_secondary', 'education_tertiary', 'education_unknown', 'contact_cellular', 'contact_telephone', 'contact_unknown', 'day_1', 'day_2', 'day_3', 'day_4', 'day_5', 'day_6', 'day_7', 'day_8', 'day_9', 'day_10', 'day_11', 'day_12', 'day_13', 'day_14', 'day_15', 'day_16', 'day_17', 'day_18', 'day_19', 'day_20', 'day_21', 'day_22', 'day_23', 'day_24', 'day_25', 'day_26', 'day_27', 'day_28', 'day_29', 'day_30', 'day_31', 'month_apr', 'month_aug', 'month_dec', 'month_feb', 'month_jan', 'month_jul', 'month_jun', 'month_mar', 'month_may', 'month_nov', 'month_oct', 'month_sep', 'poutcome_failure', 'poutcome_other', 'poutcome_success', 'poutcome_unknown']\n",
      "Output Column:  features\n"
     ]
    }
   ],
   "source": [
    "# Define the pipeline\n",
    "assembler = VectorAssembler(inputCols = data.columns[:-1], outputCol=\"features\")\n",
    "print(\"Input Columns: \", assembler.getInputCols())\n",
    "print(\"Output Column: \", assembler.getOutputCol())\n",
    "\n",
    "lr = LogisticRegression(labelCol=\"label\", featuresCol=\"features\")\n",
    "pipeline = Pipeline(stages=[assembler, lr])"
   ]
  },
  {
   "cell_type": "markdown",
   "metadata": {},
   "source": [
    "### Tune Parameters\n",
    "You can tune parameters to find the best model for your data. A simple way to do this is to use  **TrainValidationSplit** to evaluate each combination of parameters defined in a **ParameterGrid** against a subset of the training data in order to find the best performing parameters."
   ]
  },
  {
   "cell_type": "markdown",
   "metadata": {},
   "source": [
    "#### Regularization Params and iterations\n",
    "Save Regularization params and Max iteration in order to pass them at the paramGrid"
   ]
  },
  {
   "cell_type": "code",
   "execution_count": 4,
   "metadata": {},
   "outputs": [],
   "source": [
    "# print(lr.explainParams())\n",
    "lr_reg_params = np.logspace(-5, 5, 7)\n",
    "lr_max_iter = np.linspace(1, 10, 2)"
   ]
  },
  {
   "cell_type": "markdown",
   "metadata": {},
   "source": [
    "#### CrossValidation\n",
    "Set CrossValidation estimator, evaluator, params and folds"
   ]
  },
  {
   "cell_type": "code",
   "execution_count": null,
   "metadata": {},
   "outputs": [],
   "source": [
    "folds = 4\n",
    "evaluator=BinaryClassificationEvaluator()\n",
    "paramGrid = ParamGridBuilder().addGrid(lr.regParam, lr_reg_params).addGrid(lr.maxIter, lr_max_iter).build()\n",
    "\n",
    "cv = CrossValidator(estimator=pipeline, evaluator=evaluator, estimatorParamMaps=paramGrid, numFolds=folds)"
   ]
  },
  {
   "cell_type": "markdown",
   "metadata": {},
   "source": [
    "#### Training\n",
    "Starting and ending time for the fit"
   ]
  },
  {
   "cell_type": "code",
   "execution_count": null,
   "metadata": {},
   "outputs": [],
   "source": [
    "import time\n",
    "tic = time.time()\n",
    "\n",
    "model = cv.fit(train)\n",
    "\n",
    "toc = time.time()\n",
    "print(\"Elapsed time \", toc-tic)"
   ]
  },
  {
   "cell_type": "markdown",
   "metadata": {},
   "source": [
    "### Test the Model\n",
    "Now you're ready to apply the model to the test data."
   ]
  },
  {
   "cell_type": "code",
   "execution_count": null,
   "metadata": {
    "scrolled": false
   },
   "outputs": [],
   "source": [
    "prediction = model.transform(test)\n",
    "predicted = prediction.select(\"features\", \"prediction\", \"probability\", \"trueLabel\")\n",
    "# print(*predicted.select('prediction', 'trueLabel').collect(), sep='\\n')"
   ]
  },
  {
   "cell_type": "markdown",
   "metadata": {},
   "source": [
    "### Compute Confusion Matrix Metrics\n",
    "Classifiers are typically evaluated by creating a *confusion matrix*, which indicates the number of:\n",
    "- True Positives\n",
    "- True Negatives\n",
    "- False Positives\n",
    "- False Negatives\n",
    "\n",
    "From these core measures, other evaluation metrics such as *precision* and *recall* can be calculated."
   ]
  },
  {
   "cell_type": "code",
   "execution_count": null,
   "metadata": {},
   "outputs": [],
   "source": [
    "print('true positives:', predicted.filter('trueLabel == 1').count())\n",
    "print('true negatives:', predicted.filter('trueLabel == 0').count())"
   ]
  },
  {
   "cell_type": "code",
   "execution_count": null,
   "metadata": {},
   "outputs": [],
   "source": [
    "tp = float(predicted.filter(\"prediction == 1.0 AND trueLabel == 1\").count())\n",
    "fp = float(predicted.filter(\"prediction == 1.0 AND trueLabel == 0\").count())\n",
    "tn = float(predicted.filter(\"prediction == 0.0 AND trueLabel == 0\").count())\n",
    "fn = float(predicted.filter(\"prediction == 0.0 AND trueLabel == 1\").count())\n",
    "correctly_classified = (tp+tn) / predicted.count()"
   ]
  },
  {
   "cell_type": "code",
   "execution_count": null,
   "metadata": {},
   "outputs": [],
   "source": [
    "metrics = spark.createDataFrame([\n",
    " (\"TP\", tp),\n",
    " (\"FP\", fp),\n",
    " (\"TN\", tn),\n",
    " (\"FN\", fn),\n",
    " (\"Precision\", tp / (tp + fp)),\n",
    " (\"Recall\", tp / (tp + fn)),\n",
    " (\"Correctly Classified\", correctly_classified)],[\"metric\", \"value\"])\n",
    "metrics.show()"
   ]
  },
  {
   "cell_type": "code",
   "execution_count": null,
   "metadata": {},
   "outputs": [],
   "source": []
  }
 ],
 "metadata": {
  "kernelspec": {
   "display_name": "Python 3",
   "language": "python",
   "name": "python3"
  },
  "language_info": {
   "codemirror_mode": {
    "name": "ipython",
    "version": 3
   },
   "file_extension": ".py",
   "mimetype": "text/x-python",
   "name": "python",
   "nbconvert_exporter": "python",
   "pygments_lexer": "ipython3",
   "version": "3.7.1"
  }
 },
 "nbformat": 4,
 "nbformat_minor": 1
}
